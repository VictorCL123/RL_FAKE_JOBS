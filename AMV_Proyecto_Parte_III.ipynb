{
 "cells": [
  {
   "cell_type": "code",
   "execution_count": 1,
   "metadata": {},
   "outputs": [],
   "source": [
    "import pandas as pd\n",
    "import numpy as np"
   ]
  },
  {
   "cell_type": "code",
   "execution_count": 2,
   "metadata": {},
   "outputs": [],
   "source": [
    "df = pd.read_csv(\"vard2.csv\")"
   ]
  },
  {
   "cell_type": "code",
   "execution_count": 3,
   "metadata": {},
   "outputs": [
    {
     "data": {
      "text/html": [
       "<div>\n",
       "<style scoped>\n",
       "    .dataframe tbody tr th:only-of-type {\n",
       "        vertical-align: middle;\n",
       "    }\n",
       "\n",
       "    .dataframe tbody tr th {\n",
       "        vertical-align: top;\n",
       "    }\n",
       "\n",
       "    .dataframe thead th {\n",
       "        text-align: right;\n",
       "    }\n",
       "</style>\n",
       "<table border=\"1\" class=\"dataframe\">\n",
       "  <thead>\n",
       "    <tr style=\"text-align: right;\">\n",
       "      <th></th>\n",
       "      <th>id_job</th>\n",
       "      <th>var_telecommuting</th>\n",
       "      <th>var_logo</th>\n",
       "      <th>var_questions</th>\n",
       "      <th>var_employment_type</th>\n",
       "      <th>var_required_experience</th>\n",
       "      <th>var_required_education</th>\n",
       "      <th>var_industry</th>\n",
       "      <th>var_function</th>\n",
       "      <th>var_pais</th>\n",
       "      <th>var_department</th>\n",
       "      <th>var_salary</th>\n",
       "    </tr>\n",
       "  </thead>\n",
       "  <tbody>\n",
       "    <tr>\n",
       "      <td>0</td>\n",
       "      <td>0</td>\n",
       "      <td>False</td>\n",
       "      <td>True</td>\n",
       "      <td>False</td>\n",
       "      <td>Other</td>\n",
       "      <td>Other</td>\n",
       "      <td>Unspecified</td>\n",
       "      <td>Unknown</td>\n",
       "      <td>Marketing</td>\n",
       "      <td>United States</td>\n",
       "      <td>Marketing</td>\n",
       "      <td>0-20</td>\n",
       "    </tr>\n",
       "    <tr>\n",
       "      <td>1</td>\n",
       "      <td>1</td>\n",
       "      <td>False</td>\n",
       "      <td>True</td>\n",
       "      <td>False</td>\n",
       "      <td>Full-time</td>\n",
       "      <td>Not Applicable</td>\n",
       "      <td>Unspecified</td>\n",
       "      <td>Other</td>\n",
       "      <td>Customer Service</td>\n",
       "      <td>Other</td>\n",
       "      <td>Other</td>\n",
       "      <td>0-20</td>\n",
       "    </tr>\n",
       "    <tr>\n",
       "      <td>2</td>\n",
       "      <td>2</td>\n",
       "      <td>False</td>\n",
       "      <td>True</td>\n",
       "      <td>False</td>\n",
       "      <td>Unknown</td>\n",
       "      <td>Unknown</td>\n",
       "      <td>Unspecified</td>\n",
       "      <td>Unknown</td>\n",
       "      <td>Unknown</td>\n",
       "      <td>United States</td>\n",
       "      <td>Unknown</td>\n",
       "      <td>0-20</td>\n",
       "    </tr>\n",
       "    <tr>\n",
       "      <td>3</td>\n",
       "      <td>3</td>\n",
       "      <td>False</td>\n",
       "      <td>True</td>\n",
       "      <td>False</td>\n",
       "      <td>Full-time</td>\n",
       "      <td>Mid-Senior level</td>\n",
       "      <td>Bachelor's Degree</td>\n",
       "      <td>Computer Software</td>\n",
       "      <td>Sales</td>\n",
       "      <td>United States</td>\n",
       "      <td>Sales</td>\n",
       "      <td>0-20</td>\n",
       "    </tr>\n",
       "    <tr>\n",
       "      <td>4</td>\n",
       "      <td>4</td>\n",
       "      <td>False</td>\n",
       "      <td>True</td>\n",
       "      <td>True</td>\n",
       "      <td>Full-time</td>\n",
       "      <td>Mid-Senior level</td>\n",
       "      <td>Bachelor's Degree</td>\n",
       "      <td>Other</td>\n",
       "      <td>Other</td>\n",
       "      <td>United States</td>\n",
       "      <td>Unknown</td>\n",
       "      <td>0-20</td>\n",
       "    </tr>\n",
       "  </tbody>\n",
       "</table>\n",
       "</div>"
      ],
      "text/plain": [
       "   id_job  var_telecommuting  var_logo  var_questions var_employment_type  \\\n",
       "0       0              False      True          False               Other   \n",
       "1       1              False      True          False           Full-time   \n",
       "2       2              False      True          False             Unknown   \n",
       "3       3              False      True          False           Full-time   \n",
       "4       4              False      True           True           Full-time   \n",
       "\n",
       "  var_required_experience var_required_education       var_industry  \\\n",
       "0                   Other            Unspecified            Unknown   \n",
       "1          Not Applicable            Unspecified              Other   \n",
       "2                 Unknown            Unspecified            Unknown   \n",
       "3        Mid-Senior level      Bachelor's Degree  Computer Software   \n",
       "4        Mid-Senior level      Bachelor's Degree              Other   \n",
       "\n",
       "       var_function       var_pais var_department var_salary  \n",
       "0         Marketing  United States      Marketing       0-20  \n",
       "1  Customer Service          Other          Other       0-20  \n",
       "2           Unknown  United States        Unknown       0-20  \n",
       "3             Sales  United States          Sales       0-20  \n",
       "4             Other  United States        Unknown       0-20  "
      ]
     },
     "execution_count": 3,
     "metadata": {},
     "output_type": "execute_result"
    }
   ],
   "source": [
    "df.head()"
   ]
  },
  {
   "cell_type": "code",
   "execution_count": 4,
   "metadata": {},
   "outputs": [],
   "source": [
    "aux = pd.read_csv(\"fake_job_postings.csv\")"
   ]
  },
  {
   "cell_type": "code",
   "execution_count": 5,
   "metadata": {},
   "outputs": [],
   "source": [
    "aux['job_id'] = aux['job_id']-1"
   ]
  },
  {
   "cell_type": "code",
   "execution_count": 6,
   "metadata": {},
   "outputs": [],
   "source": [
    "aux = aux[['job_id','fraudulent']]"
   ]
  },
  {
   "cell_type": "code",
   "execution_count": 7,
   "metadata": {},
   "outputs": [],
   "source": [
    "aux.rename(columns={'job_id':'id_job'},inplace=True)"
   ]
  },
  {
   "cell_type": "code",
   "execution_count": 8,
   "metadata": {},
   "outputs": [
    {
     "data": {
      "text/html": [
       "<div>\n",
       "<style scoped>\n",
       "    .dataframe tbody tr th:only-of-type {\n",
       "        vertical-align: middle;\n",
       "    }\n",
       "\n",
       "    .dataframe tbody tr th {\n",
       "        vertical-align: top;\n",
       "    }\n",
       "\n",
       "    .dataframe thead th {\n",
       "        text-align: right;\n",
       "    }\n",
       "</style>\n",
       "<table border=\"1\" class=\"dataframe\">\n",
       "  <thead>\n",
       "    <tr style=\"text-align: right;\">\n",
       "      <th></th>\n",
       "      <th>id_job</th>\n",
       "      <th>fraudulent</th>\n",
       "    </tr>\n",
       "  </thead>\n",
       "  <tbody>\n",
       "    <tr>\n",
       "      <td>0</td>\n",
       "      <td>0</td>\n",
       "      <td>0</td>\n",
       "    </tr>\n",
       "    <tr>\n",
       "      <td>1</td>\n",
       "      <td>1</td>\n",
       "      <td>0</td>\n",
       "    </tr>\n",
       "    <tr>\n",
       "      <td>2</td>\n",
       "      <td>2</td>\n",
       "      <td>0</td>\n",
       "    </tr>\n",
       "    <tr>\n",
       "      <td>3</td>\n",
       "      <td>3</td>\n",
       "      <td>0</td>\n",
       "    </tr>\n",
       "    <tr>\n",
       "      <td>4</td>\n",
       "      <td>4</td>\n",
       "      <td>0</td>\n",
       "    </tr>\n",
       "    <tr>\n",
       "      <td>...</td>\n",
       "      <td>...</td>\n",
       "      <td>...</td>\n",
       "    </tr>\n",
       "    <tr>\n",
       "      <td>17875</td>\n",
       "      <td>17875</td>\n",
       "      <td>0</td>\n",
       "    </tr>\n",
       "    <tr>\n",
       "      <td>17876</td>\n",
       "      <td>17876</td>\n",
       "      <td>0</td>\n",
       "    </tr>\n",
       "    <tr>\n",
       "      <td>17877</td>\n",
       "      <td>17877</td>\n",
       "      <td>0</td>\n",
       "    </tr>\n",
       "    <tr>\n",
       "      <td>17878</td>\n",
       "      <td>17878</td>\n",
       "      <td>0</td>\n",
       "    </tr>\n",
       "    <tr>\n",
       "      <td>17879</td>\n",
       "      <td>17879</td>\n",
       "      <td>0</td>\n",
       "    </tr>\n",
       "  </tbody>\n",
       "</table>\n",
       "<p>17880 rows × 2 columns</p>\n",
       "</div>"
      ],
      "text/plain": [
       "       id_job  fraudulent\n",
       "0           0           0\n",
       "1           1           0\n",
       "2           2           0\n",
       "3           3           0\n",
       "4           4           0\n",
       "...       ...         ...\n",
       "17875   17875           0\n",
       "17876   17876           0\n",
       "17877   17877           0\n",
       "17878   17878           0\n",
       "17879   17879           0\n",
       "\n",
       "[17880 rows x 2 columns]"
      ]
     },
     "execution_count": 8,
     "metadata": {},
     "output_type": "execute_result"
    }
   ],
   "source": [
    "aux"
   ]
  },
  {
   "cell_type": "code",
   "execution_count": 9,
   "metadata": {},
   "outputs": [],
   "source": [
    "df = df.merge(aux)"
   ]
  },
  {
   "cell_type": "code",
   "execution_count": 10,
   "metadata": {},
   "outputs": [
    {
     "data": {
      "text/plain": [
       "(17880, 13)"
      ]
     },
     "execution_count": 10,
     "metadata": {},
     "output_type": "execute_result"
    }
   ],
   "source": [
    "df.shape"
   ]
  },
  {
   "cell_type": "code",
   "execution_count": 11,
   "metadata": {},
   "outputs": [],
   "source": [
    "df.drop(columns='id_job',inplace = True)"
   ]
  },
  {
   "cell_type": "code",
   "execution_count": 12,
   "metadata": {},
   "outputs": [
    {
     "data": {
      "text/plain": [
       "(17880, 12)"
      ]
     },
     "execution_count": 12,
     "metadata": {},
     "output_type": "execute_result"
    }
   ],
   "source": [
    "df.shape"
   ]
  },
  {
   "cell_type": "code",
   "execution_count": 13,
   "metadata": {},
   "outputs": [],
   "source": [
    "df.rename(columns={'fraudulent':'y'},inplace = True)"
   ]
  },
  {
   "cell_type": "markdown",
   "metadata": {},
   "source": [
    "## Transformación WoE y cálculo de IV "
   ]
  },
  {
   "cell_type": "code",
   "execution_count": 14,
   "metadata": {},
   "outputs": [],
   "source": [
    "varw = [v for v in df.columns if v[:3]=='var']"
   ]
  },
  {
   "cell_type": "code",
   "execution_count": 15,
   "metadata": {},
   "outputs": [
    {
     "data": {
      "text/plain": [
       "['var_telecommuting',\n",
       " 'var_logo',\n",
       " 'var_questions',\n",
       " 'var_employment_type',\n",
       " 'var_required_experience',\n",
       " 'var_required_education',\n",
       " 'var_industry',\n",
       " 'var_function',\n",
       " 'var_pais',\n",
       " 'var_department',\n",
       " 'var_salary']"
      ]
     },
     "execution_count": 15,
     "metadata": {},
     "output_type": "execute_result"
    }
   ],
   "source": [
    "varw"
   ]
  },
  {
   "cell_type": "code",
   "execution_count": 16,
   "metadata": {},
   "outputs": [],
   "source": [
    "l_iv = []\n",
    "for v in varw:\n",
    "    aux = df[[v,'y']].copy()\n",
    "    aux['n'] = 1\n",
    "    aux = aux.pivot_table(index=v,columns='y',values='n',aggfunc='sum',fill_value=0)\n",
    "    for k in range(2):\n",
    "        aux[k]/=aux[k].sum() \n",
    "    aux['woe'] = np.log(aux[0]/aux[1])\n",
    "    iv = ((aux[0]-aux[1])*aux['woe']).sum()\n",
    "    l_iv.append((v,iv))\n",
    "    aux.drop(range(2),axis=1,inplace=True)\n",
    "    df['w_%s'%v]=df[v].replace(aux.to_dict()['woe'])"
   ]
  },
  {
   "cell_type": "code",
   "execution_count": 17,
   "metadata": {},
   "outputs": [],
   "source": [
    "iv = pd.DataFrame(l_iv,columns=['característica','iv']).sort_values('iv',ascending=False).reset_index(drop=True)"
   ]
  },
  {
   "cell_type": "code",
   "execution_count": 18,
   "metadata": {},
   "outputs": [
    {
     "data": {
      "text/html": [
       "<div>\n",
       "<style scoped>\n",
       "    .dataframe tbody tr th:only-of-type {\n",
       "        vertical-align: middle;\n",
       "    }\n",
       "\n",
       "    .dataframe tbody tr th {\n",
       "        vertical-align: top;\n",
       "    }\n",
       "\n",
       "    .dataframe thead th {\n",
       "        text-align: right;\n",
       "    }\n",
       "</style>\n",
       "<table border=\"1\" class=\"dataframe\">\n",
       "  <thead>\n",
       "    <tr style=\"text-align: right;\">\n",
       "      <th></th>\n",
       "      <th>característica</th>\n",
       "      <th>iv</th>\n",
       "    </tr>\n",
       "  </thead>\n",
       "  <tbody>\n",
       "    <tr>\n",
       "      <td>0</td>\n",
       "      <td>var_logo</td>\n",
       "      <td>1.099602</td>\n",
       "    </tr>\n",
       "    <tr>\n",
       "      <td>1</td>\n",
       "      <td>var_pais</td>\n",
       "      <td>0.392413</td>\n",
       "    </tr>\n",
       "    <tr>\n",
       "      <td>2</td>\n",
       "      <td>var_function</td>\n",
       "      <td>0.360372</td>\n",
       "    </tr>\n",
       "    <tr>\n",
       "      <td>3</td>\n",
       "      <td>var_industry</td>\n",
       "      <td>0.281461</td>\n",
       "    </tr>\n",
       "    <tr>\n",
       "      <td>4</td>\n",
       "      <td>var_required_education</td>\n",
       "      <td>0.260127</td>\n",
       "    </tr>\n",
       "    <tr>\n",
       "      <td>5</td>\n",
       "      <td>var_questions</td>\n",
       "      <td>0.194173</td>\n",
       "    </tr>\n",
       "    <tr>\n",
       "      <td>6</td>\n",
       "      <td>var_required_experience</td>\n",
       "      <td>0.179778</td>\n",
       "    </tr>\n",
       "    <tr>\n",
       "      <td>7</td>\n",
       "      <td>var_salary</td>\n",
       "      <td>0.133991</td>\n",
       "    </tr>\n",
       "    <tr>\n",
       "      <td>8</td>\n",
       "      <td>var_employment_type</td>\n",
       "      <td>0.118899</td>\n",
       "    </tr>\n",
       "    <tr>\n",
       "      <td>9</td>\n",
       "      <td>var_department</td>\n",
       "      <td>0.110209</td>\n",
       "    </tr>\n",
       "    <tr>\n",
       "      <td>10</td>\n",
       "      <td>var_telecommuting</td>\n",
       "      <td>0.020072</td>\n",
       "    </tr>\n",
       "  </tbody>\n",
       "</table>\n",
       "</div>"
      ],
      "text/plain": [
       "             característica        iv\n",
       "0                  var_logo  1.099602\n",
       "1                  var_pais  0.392413\n",
       "2              var_function  0.360372\n",
       "3              var_industry  0.281461\n",
       "4    var_required_education  0.260127\n",
       "5             var_questions  0.194173\n",
       "6   var_required_experience  0.179778\n",
       "7                var_salary  0.133991\n",
       "8       var_employment_type  0.118899\n",
       "9            var_department  0.110209\n",
       "10        var_telecommuting  0.020072"
      ]
     },
     "execution_count": 18,
     "metadata": {},
     "output_type": "execute_result"
    }
   ],
   "source": [
    "iv"
   ]
  },
  {
   "cell_type": "code",
   "execution_count": 19,
   "metadata": {},
   "outputs": [],
   "source": [
    "best = iv.loc[(iv.iv>=0.1)]['característica'].to_list()"
   ]
  },
  {
   "cell_type": "code",
   "execution_count": 20,
   "metadata": {},
   "outputs": [
    {
     "data": {
      "text/plain": [
       "['var_logo',\n",
       " 'var_pais',\n",
       " 'var_function',\n",
       " 'var_industry',\n",
       " 'var_required_education',\n",
       " 'var_questions',\n",
       " 'var_required_experience',\n",
       " 'var_salary',\n",
       " 'var_employment_type',\n",
       " 'var_department']"
      ]
     },
     "execution_count": 20,
     "metadata": {},
     "output_type": "execute_result"
    }
   ],
   "source": [
    "best"
   ]
  },
  {
   "cell_type": "code",
   "execution_count": 21,
   "metadata": {},
   "outputs": [],
   "source": [
    "from sklearn.linear_model import LogisticRegression\n",
    "from sklearn.model_selection import train_test_split\n",
    "from sklearn.metrics import accuracy_score,roc_auc_score"
   ]
  },
  {
   "cell_type": "code",
   "execution_count": 22,
   "metadata": {},
   "outputs": [],
   "source": [
    "modelo = LogisticRegression()"
   ]
  },
  {
   "cell_type": "code",
   "execution_count": 47,
   "metadata": {},
   "outputs": [],
   "source": [
    "varw = ['w_%s'%v for v in best]\n",
    "X = df[varw].copy()\n",
    "y = df['y'].copy()"
   ]
  },
  {
   "cell_type": "code",
   "execution_count": 48,
   "metadata": {},
   "outputs": [],
   "source": [
    "Xt, Xv, yt,yv = train_test_split(X,y,train_size=0.7)"
   ]
  },
  {
   "cell_type": "code",
   "execution_count": 49,
   "metadata": {},
   "outputs": [
    {
     "name": "stderr",
     "output_type": "stream",
     "text": [
      "/home/diegoias/Documents/CieciaDatos/cdd/lib/python3.6/site-packages/sklearn/linear_model/logistic.py:432: FutureWarning: Default solver will be changed to 'lbfgs' in 0.22. Specify a solver to silence this warning.\n",
      "  FutureWarning)\n"
     ]
    },
    {
     "data": {
      "text/plain": [
       "LogisticRegression(C=1.0, class_weight=None, dual=False, fit_intercept=True,\n",
       "                   intercept_scaling=1, l1_ratio=None, max_iter=100,\n",
       "                   multi_class='warn', n_jobs=None, penalty='l2',\n",
       "                   random_state=None, solver='warn', tol=0.0001, verbose=0,\n",
       "                   warm_start=False)"
      ]
     },
     "execution_count": 49,
     "metadata": {},
     "output_type": "execute_result"
    }
   ],
   "source": [
    "modelo.fit(Xt,yt)"
   ]
  },
  {
   "cell_type": "code",
   "execution_count": 50,
   "metadata": {},
   "outputs": [
    {
     "name": "stdout",
     "output_type": "stream",
     "text": [
      "0.867440771507612\n",
      "0.8601910342000294\n"
     ]
    }
   ],
   "source": [
    "print(roc_auc_score(y_true=yt,y_score=modelo.predict_proba(Xt)[:,1]))\n",
    "print(roc_auc_score(y_true=yv,y_score=modelo.predict_proba(Xv)[:,1]))"
   ]
  },
  {
   "cell_type": "code",
   "execution_count": 51,
   "metadata": {},
   "outputs": [
    {
     "name": "stdout",
     "output_type": "stream",
     "text": [
      "0.9546979865771812\n",
      "0.9537658463832961\n"
     ]
    }
   ],
   "source": [
    "print(accuracy_score(y_true=yt,y_pred=modelo.predict(Xt)))\n",
    "print(accuracy_score(y_true=yv,y_pred=modelo.predict(Xv)))"
   ]
  },
  {
   "cell_type": "code",
   "execution_count": 52,
   "metadata": {},
   "outputs": [
    {
     "data": {
      "text/plain": [
       "array([[-0.94683189, -0.81524659, -0.80981564, -0.68298811, -0.59386236,\n",
       "        -0.29954342, -0.22047419, -1.28940281, -0.6352748 , -1.87006428]])"
      ]
     },
     "execution_count": 52,
     "metadata": {},
     "output_type": "execute_result"
    }
   ],
   "source": [
    "modelo.coef_"
   ]
  },
  {
   "cell_type": "code",
   "execution_count": 53,
   "metadata": {},
   "outputs": [
    {
     "name": "stdout",
     "output_type": "stream",
     "text": [
      "var_logo\n",
      "\n",
      "\n",
      "y                0         1      t\n",
      "var_logo                           \n",
      "False     0.840710  0.159290   3660\n",
      "True      0.980098  0.019902  14220\n",
      "\n",
      "\n",
      "var_pais\n",
      "\n",
      "\n",
      "y                      0         1      t\n",
      "var_pais                                 \n",
      "Other           0.976653  0.023347   4840\n",
      "United Kingdom  0.990352  0.009648   2384\n",
      "United States   0.931494  0.068506  10656\n",
      "\n",
      "\n",
      "var_function\n",
      "\n",
      "\n",
      "y                              0         1     t\n",
      "var_function                                    \n",
      "Administrative          0.811111  0.188889   630\n",
      "Customer Service        0.945484  0.054516  1229\n",
      "Engineering             0.916172  0.083828  1348\n",
      "Information Technology  0.981704  0.018296  1749\n",
      "Marketing               0.987952  0.012048   830\n",
      "Other                   0.964757  0.035243  4171\n",
      "Sales                   0.972071  0.027929  1468\n",
      "Unknown                 0.947792  0.052208  6455\n",
      "\n",
      "\n",
      "var_industry\n",
      "\n",
      "\n",
      "y                                           0         1     t\n",
      "var_industry                                                 \n",
      "Computer Software                    0.996366  0.003634  1376\n",
      "Information Technology and Services  0.981546  0.018454  1734\n",
      "Other                                0.943853  0.056147  9867\n",
      "Unknown                              0.943912  0.056088  4903\n",
      "\n",
      "\n",
      "var_required_education\n",
      "\n",
      "\n",
      "y                              0         1     t\n",
      "var_required_education                          \n",
      "Associate Degree        0.978102  0.021898   274\n",
      "Bachelor's Degree       0.980564  0.019436  5145\n",
      "High School             0.915090  0.084910  2273\n",
      "Master's Degree         0.925481  0.074519   416\n",
      "Other                   0.911111  0.088889   270\n",
      "Unspecified             0.946117  0.053883  9502\n",
      "\n",
      "\n",
      "var_questions\n",
      "\n",
      "\n",
      "y                     0         1     t\n",
      "var_questions                          \n",
      "False          0.932218  0.067782  9088\n",
      "True           0.971565  0.028435  8792\n",
      "\n",
      "\n",
      "var_required_experience\n",
      "\n",
      "\n",
      "y                               0         1     t\n",
      "var_required_experience                          \n",
      "Associate                0.981715  0.018285  2297\n",
      "Entry level              0.933630  0.066370  2697\n",
      "Mid-Senior level         0.970333  0.029667  3809\n",
      "Not Applicable           0.946237  0.053763  1116\n",
      "Other                    0.959385  0.040615   911\n",
      "Unknown                  0.938298  0.061702  7050\n",
      "\n",
      "\n",
      "var_salary\n",
      "\n",
      "\n",
      "y                      0         1      t\n",
      "var_salary                               \n",
      "0-20            0.956639  0.043361  15198\n",
      "110,000+        0.925466  0.074534    322\n",
      "12,000-23,500   0.986711  0.013289    301\n",
      "20-12,000       0.890785  0.109215    293\n",
      "23,500-32,000   0.840741  0.159259    270\n",
      "32,000-42,000   0.888545  0.111455    323\n",
      "42,000-52,500   0.959459  0.040541    296\n",
      "52,500-65,000   0.928315  0.071685    279\n",
      "65,000-80,000   0.914894  0.085106    282\n",
      "80,000-110,000  0.962025  0.037975    316\n",
      "\n",
      "\n",
      "var_employment_type\n",
      "\n",
      "\n",
      "y                           0         1      t\n",
      "var_employment_type                           \n",
      "Contract             0.971129  0.028871   1524\n",
      "Full-time            0.957831  0.042169  11620\n",
      "Other                0.933921  0.066079    227\n",
      "Part-time            0.907152  0.092848    797\n",
      "Temporary            0.991701  0.008299    241\n",
      "Unknown              0.930568  0.069432   3471\n",
      "\n",
      "\n",
      "var_department\n",
      "\n",
      "\n",
      "y                      0         1      t\n",
      "var_department                           \n",
      "Engineering     0.892086  0.107914    556\n",
      "IT              0.939347  0.060653    643\n",
      "Marketing       0.995951  0.004049    494\n",
      "Other           0.947355  0.052645   3951\n",
      "Sales           0.962209  0.037791    688\n",
      "Unknown         0.954018  0.045982  11548\n",
      "\n",
      "\n"
     ]
    }
   ],
   "source": [
    "for v in best:\n",
    "    aux = df[[v,'y']].copy()\n",
    "    aux['n'] = 1\n",
    "    aux = aux.pivot_table(index=v,columns='y',values='n',aggfunc='sum',fill_value=0)\n",
    "    aux['t'] = aux[range(2)].sum(axis=1)\n",
    "    for k in range(2):\n",
    "        aux[k]/=aux['t']\n",
    "    print(v)\n",
    "    print('\\n')\n",
    "    print(aux)\n",
    "    print('\\n')"
   ]
  },
  {
   "cell_type": "code",
   "execution_count": 54,
   "metadata": {},
   "outputs": [],
   "source": [
    "aux = Xt.copy()\n",
    "aux['proba'] = modelo.predict_proba(aux)[:,1]\n",
    "aux['proba'] = pd.cut(aux['proba'],include_lowest=True,bins=np.arange(0,1.1,0.1))"
   ]
  },
  {
   "cell_type": "code",
   "execution_count": 55,
   "metadata": {},
   "outputs": [
    {
     "data": {
      "text/plain": [
       "<matplotlib.axes._subplots.AxesSubplot at 0x7fda110b7eb8>"
      ]
     },
     "execution_count": 55,
     "metadata": {},
     "output_type": "execute_result"
    },
    {
     "data": {
      "image/png": "[encoded data removed]",
      "text/plain": [
       "<Figure size 432x288 with 1 Axes>"
      ]
     },
     "metadata": {
      "needs_background": "light"
     },
     "output_type": "display_data"
    }
   ],
   "source": [
    "aux.proba.value_counts(True).sort_index().plot(kind='bar')"
   ]
  },
  {
   "cell_type": "code",
   "execution_count": 98,
   "metadata": {},
   "outputs": [],
   "source": [
    "pdo = 10.6  #Points to double de odd's  \n",
    "base_score = 326 #score base\n",
    "base_odds = 1 #odd's base\n",
    "factor = float(pdo) / np.log(2)\n",
    "offset = base_score - factor * np.log(base_odds)"
   ]
  },
  {
   "cell_type": "code",
   "execution_count": 99,
   "metadata": {},
   "outputs": [],
   "source": [
    "n = len(best)\n",
    "betas = modelo.coef_[0]\n",
    "alpha = modelo.intercept_[0]\n",
    "for feat, beta in zip(varw, betas):\n",
    "    aux['P_' + feat] = np.ceil((-aux[feat] * beta + alpha / n) * factor + offset / n).astype(int)\n",
    "aux['score'] = aux[[f for f in aux.columns if f[:2] == 'P_']].sum(axis=1)"
   ]
  },
  {
   "cell_type": "code",
   "execution_count": 100,
   "metadata": {},
   "outputs": [
    {
     "data": {
      "text/plain": [
       "count    12516.000000\n",
       "mean       303.500320\n",
       "std         30.030222\n",
       "min        206.000000\n",
       "25%        288.000000\n",
       "50%        303.000000\n",
       "75%        318.000000\n",
       "max        451.000000\n",
       "Name: score, dtype: float64"
      ]
     },
     "execution_count": 100,
     "metadata": {},
     "output_type": "execute_result"
    }
   ],
   "source": [
    "aux.score.describe()"
   ]
  },
  {
   "cell_type": "code",
   "execution_count": 101,
   "metadata": {},
   "outputs": [
    {
     "data": {
      "text/plain": [
       "<matplotlib.axes._subplots.AxesSubplot at 0x7fda10e1f3c8>"
      ]
     },
     "execution_count": 101,
     "metadata": {},
     "output_type": "execute_result"
    },
    {
     "data": {
      "image/png": "[encoded data removed]",
      "text/plain": [
       "<Figure size 432x288 with 1 Axes>"
      ]
     },
     "metadata": {
      "needs_background": "light"
     },
     "output_type": "display_data"
    }
   ],
   "source": [
    "aux.score.hist()"
   ]
  },
  {
   "cell_type": "code",
   "execution_count": 102,
   "metadata": {},
   "outputs": [],
   "source": [
    "aux['r_score'] = pd.cut(aux.score, bins=range(200,460,20),include_lowest=True)"
   ]
  },
  {
   "cell_type": "code",
   "execution_count": 103,
   "metadata": {},
   "outputs": [
    {
     "data": {
      "text/plain": [
       "<matplotlib.axes._subplots.AxesSubplot at 0x7fda10d99b38>"
      ]
     },
     "execution_count": 103,
     "metadata": {},
     "output_type": "execute_result"
    },
    {
     "data": {
      "image/png": "[encoded data removed]",
      "text/plain": [
       "<Figure size 432x288 with 1 Axes>"
      ]
     },
     "metadata": {
      "needs_background": "light"
     },
     "output_type": "display_data"
    }
   ],
   "source": [
    "aux.r_score.value_counts().sort_index().plot(kind='bar')"
   ]
  },
  {
   "cell_type": "code",
   "execution_count": 104,
   "metadata": {},
   "outputs": [],
   "source": [
    "aux['target']  = yt"
   ]
  },
  {
   "cell_type": "code",
   "execution_count": 105,
   "metadata": {},
   "outputs": [],
   "source": [
    "aux['n']= 1.0"
   ]
  },
  {
   "cell_type": "code",
   "execution_count": 106,
   "metadata": {},
   "outputs": [
    {
     "data": {
      "text/html": [
       "<div>\n",
       "<style scoped>\n",
       "    .dataframe tbody tr th:only-of-type {\n",
       "        vertical-align: middle;\n",
       "    }\n",
       "\n",
       "    .dataframe tbody tr th {\n",
       "        vertical-align: top;\n",
       "    }\n",
       "\n",
       "    .dataframe thead th {\n",
       "        text-align: right;\n",
       "    }\n",
       "</style>\n",
       "<table border=\"1\" class=\"dataframe\">\n",
       "  <thead>\n",
       "    <tr style=\"text-align: right;\">\n",
       "      <th></th>\n",
       "      <th></th>\n",
       "      <th></th>\n",
       "      <th>n</th>\n",
       "    </tr>\n",
       "    <tr>\n",
       "      <th>r_score</th>\n",
       "      <th>proba</th>\n",
       "      <th>target</th>\n",
       "      <th></th>\n",
       "    </tr>\n",
       "  </thead>\n",
       "  <tbody>\n",
       "    <tr>\n",
       "      <td rowspan=\"5\" valign=\"top\">(199.999, 220.0]</td>\n",
       "      <td rowspan=\"2\" valign=\"top\">(-0.001, 0.1]</td>\n",
       "      <td>0</td>\n",
       "      <td>0.0</td>\n",
       "    </tr>\n",
       "    <tr>\n",
       "      <td>1</td>\n",
       "      <td>0.0</td>\n",
       "    </tr>\n",
       "    <tr>\n",
       "      <td rowspan=\"2\" valign=\"top\">(0.1, 0.2]</td>\n",
       "      <td>0</td>\n",
       "      <td>0.0</td>\n",
       "    </tr>\n",
       "    <tr>\n",
       "      <td>1</td>\n",
       "      <td>0.0</td>\n",
       "    </tr>\n",
       "    <tr>\n",
       "      <td>(0.2, 0.3]</td>\n",
       "      <td>0</td>\n",
       "      <td>0.0</td>\n",
       "    </tr>\n",
       "    <tr>\n",
       "      <td>...</td>\n",
       "      <td>...</td>\n",
       "      <td>...</td>\n",
       "      <td>...</td>\n",
       "    </tr>\n",
       "    <tr>\n",
       "      <td rowspan=\"5\" valign=\"top\">(420.0, 440.0]</td>\n",
       "      <td>(0.7, 0.8]</td>\n",
       "      <td>1</td>\n",
       "      <td>0.0</td>\n",
       "    </tr>\n",
       "    <tr>\n",
       "      <td rowspan=\"2\" valign=\"top\">(0.8, 0.9]</td>\n",
       "      <td>0</td>\n",
       "      <td>0.0</td>\n",
       "    </tr>\n",
       "    <tr>\n",
       "      <td>1</td>\n",
       "      <td>0.0</td>\n",
       "    </tr>\n",
       "    <tr>\n",
       "      <td rowspan=\"2\" valign=\"top\">(0.9, 1.0]</td>\n",
       "      <td>0</td>\n",
       "      <td>0.0</td>\n",
       "    </tr>\n",
       "    <tr>\n",
       "      <td>1</td>\n",
       "      <td>0.0</td>\n",
       "    </tr>\n",
       "  </tbody>\n",
       "</table>\n",
       "<p>240 rows × 1 columns</p>\n",
       "</div>"
      ],
      "text/plain": [
       "                                         n\n",
       "r_score          proba         target     \n",
       "(199.999, 220.0] (-0.001, 0.1] 0       0.0\n",
       "                               1       0.0\n",
       "                 (0.1, 0.2]    0       0.0\n",
       "                               1       0.0\n",
       "                 (0.2, 0.3]    0       0.0\n",
       "...                                    ...\n",
       "(420.0, 440.0]   (0.7, 0.8]    1       0.0\n",
       "                 (0.8, 0.9]    0       0.0\n",
       "                               1       0.0\n",
       "                 (0.9, 1.0]    0       0.0\n",
       "                               1       0.0\n",
       "\n",
       "[240 rows x 1 columns]"
      ]
     },
     "execution_count": 106,
     "metadata": {},
     "output_type": "execute_result"
    }
   ],
   "source": [
    "aux[['r_score','proba','target','n']].groupby(['r_score','proba','target']).sum().fillna(0)"
   ]
  },
  {
   "cell_type": "code",
   "execution_count": 107,
   "metadata": {},
   "outputs": [],
   "source": [
    "aux = aux.merge(df,left_index=True,right_index=True,how='inner')"
   ]
  },
  {
   "cell_type": "code",
   "execution_count": 112,
   "metadata": {},
   "outputs": [
    {
     "data": {
      "text/html": [
       "<div>\n",
       "<style scoped>\n",
       "    .dataframe tbody tr th:only-of-type {\n",
       "        vertical-align: middle;\n",
       "    }\n",
       "\n",
       "    .dataframe tbody tr th {\n",
       "        vertical-align: top;\n",
       "    }\n",
       "\n",
       "    .dataframe thead th {\n",
       "        text-align: right;\n",
       "    }\n",
       "</style>\n",
       "<table border=\"1\" class=\"dataframe\">\n",
       "  <thead>\n",
       "    <tr style=\"text-align: right;\">\n",
       "      <th></th>\n",
       "      <th>atributo</th>\n",
       "      <th>puntos</th>\n",
       "      <th>caracteristica</th>\n",
       "    </tr>\n",
       "  </thead>\n",
       "  <tbody>\n",
       "    <tr>\n",
       "      <td>0</td>\n",
       "      <td>Unknown</td>\n",
       "      <td>30</td>\n",
       "      <td>var_department</td>\n",
       "    </tr>\n",
       "    <tr>\n",
       "      <td>1</td>\n",
       "      <td>Sales</td>\n",
       "      <td>36</td>\n",
       "      <td>var_department</td>\n",
       "    </tr>\n",
       "    <tr>\n",
       "      <td>2</td>\n",
       "      <td>Other</td>\n",
       "      <td>26</td>\n",
       "      <td>var_department</td>\n",
       "    </tr>\n",
       "    <tr>\n",
       "      <td>3</td>\n",
       "      <td>Marketing</td>\n",
       "      <td>101</td>\n",
       "      <td>var_department</td>\n",
       "    </tr>\n",
       "    <tr>\n",
       "      <td>4</td>\n",
       "      <td>Engineering</td>\n",
       "      <td>4</td>\n",
       "      <td>var_department</td>\n",
       "    </tr>\n",
       "    <tr>\n",
       "      <td>5</td>\n",
       "      <td>IT</td>\n",
       "      <td>22</td>\n",
       "      <td>var_department</td>\n",
       "    </tr>\n",
       "  </tbody>\n",
       "</table>\n",
       "</div>"
      ],
      "text/plain": [
       "      atributo  puntos  caracteristica\n",
       "0      Unknown      30  var_department\n",
       "1        Sales      36  var_department\n",
       "2        Other      26  var_department\n",
       "3    Marketing     101  var_department\n",
       "4  Engineering       4  var_department\n",
       "5           IT      22  var_department"
      ]
     },
     "execution_count": 112,
     "metadata": {},
     "output_type": "execute_result"
    }
   ],
   "source": [
    "aux2"
   ]
  },
  {
   "cell_type": "code",
   "execution_count": 108,
   "metadata": {},
   "outputs": [],
   "source": [
    "l_sc = []\n",
    "for v in best:\n",
    "    aux2 = aux[[v,\"P_w_%s\"%v]].copy().drop_duplicates().reset_index(drop=True)\n",
    "    aux2.rename(columns={v:'atributo',\"P_w_%s\"%v:'puntos'},inplace=True)\n",
    "    aux2['caracteristica'] = v\n",
    "    l_sc.append(aux2)"
   ]
  },
  {
   "cell_type": "code",
   "execution_count": 109,
   "metadata": {},
   "outputs": [],
   "source": [
    "sc = pd.concat(l_sc,ignore_index=True)"
   ]
  },
  {
   "cell_type": "code",
   "execution_count": 110,
   "metadata": {},
   "outputs": [],
   "source": [
    "sc.groupby(['caracteristica','atributo']).sum().to_excel('scorecard.xlsx')"
   ]
  },
  {
   "cell_type": "code",
   "execution_count": null,
   "metadata": {},
   "outputs": [],
   "source": []
  }
 ],
 "metadata": {
  "kernelspec": {
   "display_name": "Python 3",
   "language": "python",
   "name": "python3"
  },
  "language_info": {
   "codemirror_mode": {
    "name": "ipython",
    "version": 3
   },
   "file_extension": ".py",
   "mimetype": "text/x-python",
   "name": "python",
   "nbconvert_exporter": "python",
   "pygments_lexer": "ipython3",
   "version": "3.6.8"
  }
 },
 "nbformat": 4,
 "nbformat_minor": 2
}
